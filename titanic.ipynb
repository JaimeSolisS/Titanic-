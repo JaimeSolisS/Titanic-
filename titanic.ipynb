{
 "cells": [
  {
   "cell_type": "markdown",
   "metadata": {},
   "source": [
    "# Caso de estidio 3: Titanic with Logistic Regression"
   ]
  },
  {
   "cell_type": "markdown",
   "metadata": {},
   "source": [
    "<img src='https://climbingcomics.files.wordpress.com/2012/07/logistic-regression1.png?w=994&h=368'>"
   ]
  },
  {
   "cell_type": "markdown",
   "metadata": {},
   "source": [
    "## Descripción\n",
    "\n",
    "The sinking of the RMS Titanic is one of the most infamous shipwrecks in history.  On April 15, 1912, during her maiden voyage, the Titanic sank after colliding with an iceberg, killing 1502 out of 2224 passengers and crew. This sensational tragedy shocked the international community and led to better safety regulations for ships.\n",
    "\n",
    "One of the reasons that the shipwreck led to such loss of life was that there were not enough lifeboats for the passengers and crew. Although there was some element of luck involved in surviving the sinking, some groups of people were more likely to survive than others, such as women, children, and the upper-class.\n",
    "\n",
    "In this challenge, we ask you to complete the analysis of what sorts of people were likely to survive. In particular, we ask you to apply the tools of machine learning to predict which passengers survived the tragedy."
   ]
  },
  {
   "cell_type": "markdown",
   "metadata": {},
   "source": [
    "## Data\n",
    "\n",
    "Overview\n",
    "\n",
    "The data has been split into two groups:\n",
    "\n",
    "    training set (train.csv)\n",
    "    test set (test.csv)\n",
    "\n",
    "The training set should be used to build your machine learning models. For the training set, we provide the outcome (also known as the “ground truth”) for each passenger. Your model will be based on “features” like passengers’ gender and class. You can also use feature engineering to create new features.\n",
    "\n",
    "The test set should be used to see how well your model performs on unseen data. For the test set, we do not provide the ground truth for each passenger. It is your job to predict these outcomes. For each passenger in the test set, use the model you trained to predict whether or not they survived the sinking of the Titanic.\n",
    "\n",
    "We also include gender_submission.csv, a set of predictions that assume all and only female passengers survive, as an example of what a submission file should look like.\n",
    "Data Dictionary\n",
    "Variable\tDefinition\tKey\n",
    "survival \tSurvival \t0 = No, 1 = Yes\n",
    "pclass \tTicket class \t1 = 1st, 2 = 2nd, 3 = 3rd\n",
    "sex \tSex \t\n",
    "Age \tAge in years \t\n",
    "sibsp \t# of siblings / spouses aboard the Titanic \t\n",
    "parch \t# of parents / children aboard the Titanic \t\n",
    "ticket \tTicket number \t\n",
    "fare \tPassenger fare \t\n",
    "cabin \tCabin number \t\n",
    "embarked \tPort of Embarkation \tC = Cherbourg, Q = Queenstown, S = Southampton\n",
    "Variable Notes\n",
    "\n",
    "pclass: A proxy for socio-economic status (SES)\n",
    "1st = Upper\n",
    "2nd = Middle\n",
    "3rd = Lower\n",
    "\n",
    "age: Age is fractional if less than 1. If the age is estimated, is it in the form of xx.5\n",
    "\n",
    "sibsp: The dataset defines family relations in this way...\n",
    "Sibling = brother, sister, stepbrother, stepsister\n",
    "Spouse = husband, wife (mistresses and fiancés were ignored)\n",
    "\n",
    "parch: The dataset defines family relations in this way...\n",
    "Parent = mother, father\n",
    "Child = daughter, son, stepdaughter, stepson\n",
    "Some children travelled only with a nanny, therefore parch=0 for them."
   ]
  },
  {
   "cell_type": "markdown",
   "metadata": {
    "hide_input": false
   },
   "source": [
    "## Importing the Libraries\n"
   ]
  },
  {
   "cell_type": "code",
   "execution_count": 196,
   "metadata": {
    "hide_input": false
   },
   "outputs": [],
   "source": [
    "# linear algebra\n",
    "import numpy as np \n",
    "\n",
    "# data processing\n",
    "import pandas as pd \n",
    "\n",
    "# data visualization\n",
    "import seaborn as sns\n",
    "%matplotlib inline\n",
    "from matplotlib import pyplot as plt\n",
    "from matplotlib import style\n",
    "\n",
    "# Algorithms\n",
    "from sklearn import linear_model\n",
    "from sklearn.linear_model import LogisticRegression"
   ]
  },
  {
   "cell_type": "markdown",
   "metadata": {},
   "source": [
    "## Reading the Data"
   ]
  },
  {
   "cell_type": "code",
   "execution_count": 197,
   "metadata": {
    "hide_input": false
   },
   "outputs": [],
   "source": [
    "dftest = pd.read_csv(\"data/test.csv\")\n",
    "dftrain = pd.read_csv(\"data/train.csv\")\n",
    "dfmovie = dftrain.copy()"
   ]
  },
  {
   "cell_type": "code",
   "execution_count": 198,
   "metadata": {},
   "outputs": [
    {
     "data": {
      "text/html": [
       "<div>\n",
       "<style scoped>\n",
       "    .dataframe tbody tr th:only-of-type {\n",
       "        vertical-align: middle;\n",
       "    }\n",
       "\n",
       "    .dataframe tbody tr th {\n",
       "        vertical-align: top;\n",
       "    }\n",
       "\n",
       "    .dataframe thead th {\n",
       "        text-align: right;\n",
       "    }\n",
       "</style>\n",
       "<table border=\"1\" class=\"dataframe\">\n",
       "  <thead>\n",
       "    <tr style=\"text-align: right;\">\n",
       "      <th></th>\n",
       "      <th>PassengerId</th>\n",
       "      <th>Survived</th>\n",
       "      <th>Pclass</th>\n",
       "      <th>Name</th>\n",
       "      <th>Sex</th>\n",
       "      <th>Age</th>\n",
       "      <th>SibSp</th>\n",
       "      <th>Parch</th>\n",
       "      <th>Ticket</th>\n",
       "      <th>Fare</th>\n",
       "      <th>Cabin</th>\n",
       "      <th>Embarked</th>\n",
       "    </tr>\n",
       "  </thead>\n",
       "  <tbody>\n",
       "    <tr>\n",
       "      <th>0</th>\n",
       "      <td>1</td>\n",
       "      <td>0</td>\n",
       "      <td>3</td>\n",
       "      <td>Braund, Mr. Owen Harris</td>\n",
       "      <td>male</td>\n",
       "      <td>22.0</td>\n",
       "      <td>1</td>\n",
       "      <td>0</td>\n",
       "      <td>A/5 21171</td>\n",
       "      <td>7.2500</td>\n",
       "      <td>NaN</td>\n",
       "      <td>S</td>\n",
       "    </tr>\n",
       "    <tr>\n",
       "      <th>1</th>\n",
       "      <td>2</td>\n",
       "      <td>1</td>\n",
       "      <td>1</td>\n",
       "      <td>Cumings, Mrs. John Bradley (Florence Briggs Thayer)</td>\n",
       "      <td>female</td>\n",
       "      <td>38.0</td>\n",
       "      <td>1</td>\n",
       "      <td>0</td>\n",
       "      <td>PC 17599</td>\n",
       "      <td>71.2833</td>\n",
       "      <td>C85</td>\n",
       "      <td>C</td>\n",
       "    </tr>\n",
       "    <tr>\n",
       "      <th>2</th>\n",
       "      <td>3</td>\n",
       "      <td>1</td>\n",
       "      <td>3</td>\n",
       "      <td>Heikkinen, Miss. Laina</td>\n",
       "      <td>female</td>\n",
       "      <td>26.0</td>\n",
       "      <td>0</td>\n",
       "      <td>0</td>\n",
       "      <td>STON/O2. 3101282</td>\n",
       "      <td>7.9250</td>\n",
       "      <td>NaN</td>\n",
       "      <td>S</td>\n",
       "    </tr>\n",
       "    <tr>\n",
       "      <th>3</th>\n",
       "      <td>4</td>\n",
       "      <td>1</td>\n",
       "      <td>1</td>\n",
       "      <td>Futrelle, Mrs. Jacques Heath (Lily May Peel)</td>\n",
       "      <td>female</td>\n",
       "      <td>35.0</td>\n",
       "      <td>1</td>\n",
       "      <td>0</td>\n",
       "      <td>113803</td>\n",
       "      <td>53.1000</td>\n",
       "      <td>C123</td>\n",
       "      <td>S</td>\n",
       "    </tr>\n",
       "    <tr>\n",
       "      <th>4</th>\n",
       "      <td>5</td>\n",
       "      <td>0</td>\n",
       "      <td>3</td>\n",
       "      <td>Allen, Mr. William Henry</td>\n",
       "      <td>male</td>\n",
       "      <td>35.0</td>\n",
       "      <td>0</td>\n",
       "      <td>0</td>\n",
       "      <td>373450</td>\n",
       "      <td>8.0500</td>\n",
       "      <td>NaN</td>\n",
       "      <td>S</td>\n",
       "    </tr>\n",
       "  </tbody>\n",
       "</table>\n",
       "</div>"
      ],
      "text/plain": [
       "   PassengerId  Survived  Pclass  \\\n",
       "0  1            0         3        \n",
       "1  2            1         1        \n",
       "2  3            1         3        \n",
       "3  4            1         1        \n",
       "4  5            0         3        \n",
       "\n",
       "                                                  Name     Sex   Age  SibSp  \\\n",
       "0  Braund, Mr. Owen Harris                              male    22.0  1       \n",
       "1  Cumings, Mrs. John Bradley (Florence Briggs Thayer)  female  38.0  1       \n",
       "2  Heikkinen, Miss. Laina                               female  26.0  0       \n",
       "3  Futrelle, Mrs. Jacques Heath (Lily May Peel)         female  35.0  1       \n",
       "4  Allen, Mr. William Henry                             male    35.0  0       \n",
       "\n",
       "   Parch            Ticket     Fare Cabin Embarked  \n",
       "0  0      A/5 21171         7.2500   NaN   S        \n",
       "1  0      PC 17599          71.2833  C85   C        \n",
       "2  0      STON/O2. 3101282  7.9250   NaN   S        \n",
       "3  0      113803            53.1000  C123  S        \n",
       "4  0      373450            8.0500   NaN   S        "
      ]
     },
     "execution_count": 198,
     "metadata": {},
     "output_type": "execute_result"
    }
   ],
   "source": [
    "dftrain.head()"
   ]
  },
  {
   "cell_type": "markdown",
   "metadata": {},
   "source": [
    "Here’s the Data Dictionary, so we can understand the columns info better:  \n",
    "**PassengerID**-type should be integers  \n",
    "**Survived**-survived or not  \n",
    "**Pclass**-class of Travel of every passenger  \n",
    "**Name**- the name of the passenger  \n",
    "**Sex** -gender  \n",
    "**Age**-age of passengers  \n",
    "**SibSp** -No. of siblings/spouse aboard  \n",
    "**Parch**-No. of parent/child aboard  \n",
    "**Ticket**-Ticket number  \n",
    "**Fare** -what Prices they paid  \n",
    "**Cabin** -cabin number  \n",
    "**Embarked**-the port in which a passenger has embarked.  \n",
    "C -Cherbourg , S -Southhampton , Q -Queenstown  "
   ]
  },
  {
   "cell_type": "code",
   "execution_count": 199,
   "metadata": {},
   "outputs": [
    {
     "data": {
      "text/plain": [
       "PassengerId    891\n",
       "Survived       891\n",
       "Pclass         891\n",
       "Name           891\n",
       "Sex            891\n",
       "Age            714\n",
       "SibSp          891\n",
       "Parch          891\n",
       "Ticket         891\n",
       "Fare           891\n",
       "Cabin          204\n",
       "Embarked       889\n",
       "dtype: int64"
      ]
     },
     "execution_count": 199,
     "metadata": {},
     "output_type": "execute_result"
    }
   ],
   "source": [
    "dftrain.count()"
   ]
  },
  {
   "cell_type": "markdown",
   "metadata": {},
   "source": [
    "Ok, podemos ver que son 891 registros en total. Hay columnas con valores nulos, veremos eso más adelante."
   ]
  },
  {
   "cell_type": "code",
   "execution_count": 200,
   "metadata": {},
   "outputs": [
    {
     "data": {
      "text/plain": [
       "PassengerId    418\n",
       "Pclass         418\n",
       "Name           418\n",
       "Sex            418\n",
       "Age            332\n",
       "SibSp          418\n",
       "Parch          418\n",
       "Ticket         418\n",
       "Fare           417\n",
       "Cabin          91 \n",
       "Embarked       418\n",
       "dtype: int64"
      ]
     },
     "execution_count": 200,
     "metadata": {},
     "output_type": "execute_result"
    }
   ],
   "source": [
    "dftest.count()"
   ]
  },
  {
   "cell_type": "markdown",
   "metadata": {},
   "source": [
    "**Información** del dataset"
   ]
  },
  {
   "cell_type": "code",
   "execution_count": 201,
   "metadata": {},
   "outputs": [
    {
     "name": "stdout",
     "output_type": "stream",
     "text": [
      "<class 'pandas.core.frame.DataFrame'>\n",
      "RangeIndex: 891 entries, 0 to 890\n",
      "Data columns (total 12 columns):\n",
      "PassengerId    891 non-null int64\n",
      "Survived       891 non-null int64\n",
      "Pclass         891 non-null int64\n",
      "Name           891 non-null object\n",
      "Sex            891 non-null object\n",
      "Age            714 non-null float64\n",
      "SibSp          891 non-null int64\n",
      "Parch          891 non-null int64\n",
      "Ticket         891 non-null object\n",
      "Fare           891 non-null float64\n",
      "Cabin          204 non-null object\n",
      "Embarked       889 non-null object\n",
      "dtypes: float64(2), int64(5), object(5)\n",
      "memory usage: 83.6+ KB\n"
     ]
    }
   ],
   "source": [
    "dftrain.info()"
   ]
  },
  {
   "cell_type": "markdown",
   "metadata": {},
   "source": [
    "Estadística **descriptiva** del dataset que nos puede servir."
   ]
  },
  {
   "cell_type": "code",
   "execution_count": 202,
   "metadata": {},
   "outputs": [
    {
     "data": {
      "text/html": [
       "<div>\n",
       "<style scoped>\n",
       "    .dataframe tbody tr th:only-of-type {\n",
       "        vertical-align: middle;\n",
       "    }\n",
       "\n",
       "    .dataframe tbody tr th {\n",
       "        vertical-align: top;\n",
       "    }\n",
       "\n",
       "    .dataframe thead th {\n",
       "        text-align: right;\n",
       "    }\n",
       "</style>\n",
       "<table border=\"1\" class=\"dataframe\">\n",
       "  <thead>\n",
       "    <tr style=\"text-align: right;\">\n",
       "      <th></th>\n",
       "      <th>PassengerId</th>\n",
       "      <th>Survived</th>\n",
       "      <th>Pclass</th>\n",
       "      <th>Age</th>\n",
       "      <th>SibSp</th>\n",
       "      <th>Parch</th>\n",
       "      <th>Fare</th>\n",
       "    </tr>\n",
       "  </thead>\n",
       "  <tbody>\n",
       "    <tr>\n",
       "      <th>count</th>\n",
       "      <td>891.000000</td>\n",
       "      <td>891.000000</td>\n",
       "      <td>891.000000</td>\n",
       "      <td>714.000000</td>\n",
       "      <td>891.000000</td>\n",
       "      <td>891.000000</td>\n",
       "      <td>891.000000</td>\n",
       "    </tr>\n",
       "    <tr>\n",
       "      <th>mean</th>\n",
       "      <td>446.000000</td>\n",
       "      <td>0.383838</td>\n",
       "      <td>2.308642</td>\n",
       "      <td>29.699118</td>\n",
       "      <td>0.523008</td>\n",
       "      <td>0.381594</td>\n",
       "      <td>32.204208</td>\n",
       "    </tr>\n",
       "    <tr>\n",
       "      <th>std</th>\n",
       "      <td>257.353842</td>\n",
       "      <td>0.486592</td>\n",
       "      <td>0.836071</td>\n",
       "      <td>14.526497</td>\n",
       "      <td>1.102743</td>\n",
       "      <td>0.806057</td>\n",
       "      <td>49.693429</td>\n",
       "    </tr>\n",
       "    <tr>\n",
       "      <th>min</th>\n",
       "      <td>1.000000</td>\n",
       "      <td>0.000000</td>\n",
       "      <td>1.000000</td>\n",
       "      <td>0.420000</td>\n",
       "      <td>0.000000</td>\n",
       "      <td>0.000000</td>\n",
       "      <td>0.000000</td>\n",
       "    </tr>\n",
       "    <tr>\n",
       "      <th>25%</th>\n",
       "      <td>223.500000</td>\n",
       "      <td>0.000000</td>\n",
       "      <td>2.000000</td>\n",
       "      <td>20.125000</td>\n",
       "      <td>0.000000</td>\n",
       "      <td>0.000000</td>\n",
       "      <td>7.910400</td>\n",
       "    </tr>\n",
       "    <tr>\n",
       "      <th>50%</th>\n",
       "      <td>446.000000</td>\n",
       "      <td>0.000000</td>\n",
       "      <td>3.000000</td>\n",
       "      <td>28.000000</td>\n",
       "      <td>0.000000</td>\n",
       "      <td>0.000000</td>\n",
       "      <td>14.454200</td>\n",
       "    </tr>\n",
       "    <tr>\n",
       "      <th>75%</th>\n",
       "      <td>668.500000</td>\n",
       "      <td>1.000000</td>\n",
       "      <td>3.000000</td>\n",
       "      <td>38.000000</td>\n",
       "      <td>1.000000</td>\n",
       "      <td>0.000000</td>\n",
       "      <td>31.000000</td>\n",
       "    </tr>\n",
       "    <tr>\n",
       "      <th>max</th>\n",
       "      <td>891.000000</td>\n",
       "      <td>1.000000</td>\n",
       "      <td>3.000000</td>\n",
       "      <td>80.000000</td>\n",
       "      <td>8.000000</td>\n",
       "      <td>6.000000</td>\n",
       "      <td>512.329200</td>\n",
       "    </tr>\n",
       "  </tbody>\n",
       "</table>\n",
       "</div>"
      ],
      "text/plain": [
       "       PassengerId    Survived      Pclass         Age       SibSp  \\\n",
       "count  891.000000   891.000000  891.000000  714.000000  891.000000   \n",
       "mean   446.000000   0.383838    2.308642    29.699118   0.523008     \n",
       "std    257.353842   0.486592    0.836071    14.526497   1.102743     \n",
       "min    1.000000     0.000000    1.000000    0.420000    0.000000     \n",
       "25%    223.500000   0.000000    2.000000    20.125000   0.000000     \n",
       "50%    446.000000   0.000000    3.000000    28.000000   0.000000     \n",
       "75%    668.500000   1.000000    3.000000    38.000000   1.000000     \n",
       "max    891.000000   1.000000    3.000000    80.000000   8.000000     \n",
       "\n",
       "            Parch        Fare  \n",
       "count  891.000000  891.000000  \n",
       "mean   0.381594    32.204208   \n",
       "std    0.806057    49.693429   \n",
       "min    0.000000    0.000000    \n",
       "25%    0.000000    7.910400    \n",
       "50%    0.000000    14.454200   \n",
       "75%    0.000000    31.000000   \n",
       "max    6.000000    512.329200  "
      ]
     },
     "execution_count": 202,
     "metadata": {},
     "output_type": "execute_result"
    }
   ],
   "source": [
    "dftrain.describe()"
   ]
  },
  {
   "cell_type": "markdown",
   "metadata": {},
   "source": [
    "## Exploratory Data Analysis"
   ]
  },
  {
   "cell_type": "markdown",
   "metadata": {},
   "source": [
    "Vamos a ver la información faltante en el data frame y trataremos de reemplazarla con información útil. "
   ]
  },
  {
   "cell_type": "markdown",
   "metadata": {},
   "source": [
    "### Missing Data"
   ]
  },
  {
   "cell_type": "markdown",
   "metadata": {},
   "source": [
    "Con Seaborn podemos graficar un heatmap con los datos nulos. En este caso, el amarillo nos dice los fatos nulos y podemos ver que **Age** y sobretodo **Cabin** tienen muchos datos nulos."
   ]
  },
  {
   "cell_type": "code",
   "execution_count": 203,
   "metadata": {},
   "outputs": [
    {
     "data": {
      "text/plain": [
       "<matplotlib.axes._subplots.AxesSubplot at 0x1c2c603400>"
      ]
     },
     "execution_count": 203,
     "metadata": {},
     "output_type": "execute_result"
    },
    {
     "data": {
      "image/png": "[encoded data removed]",
      "text/plain": [
       "<Figure size 432x288 with 1 Axes>"
      ]
     },
     "metadata": {
      "needs_background": "light"
     },
     "output_type": "display_data"
    }
   ],
   "source": [
    "sns.heatmap(dftrain.isnull(),yticklabels=False,cbar=False,cmap='cividis')"
   ]
  },
  {
   "cell_type": "markdown",
   "metadata": {},
   "source": [
    "Vamos a ver los porcentanjes de datos nulos"
   ]
  },
  {
   "cell_type": "code",
   "execution_count": 204,
   "metadata": {},
   "outputs": [
    {
     "data": {
      "text/html": [
       "<div>\n",
       "<style scoped>\n",
       "    .dataframe tbody tr th:only-of-type {\n",
       "        vertical-align: middle;\n",
       "    }\n",
       "\n",
       "    .dataframe tbody tr th {\n",
       "        vertical-align: top;\n",
       "    }\n",
       "\n",
       "    .dataframe thead th {\n",
       "        text-align: right;\n",
       "    }\n",
       "</style>\n",
       "<table border=\"1\" class=\"dataframe\">\n",
       "  <thead>\n",
       "    <tr style=\"text-align: right;\">\n",
       "      <th></th>\n",
       "      <th>DatosNaN</th>\n",
       "      <th>% del total</th>\n",
       "    </tr>\n",
       "  </thead>\n",
       "  <tbody>\n",
       "    <tr>\n",
       "      <th>Cabin</th>\n",
       "      <td>687</td>\n",
       "      <td>77.10</td>\n",
       "    </tr>\n",
       "    <tr>\n",
       "      <th>Age</th>\n",
       "      <td>177</td>\n",
       "      <td>19.87</td>\n",
       "    </tr>\n",
       "    <tr>\n",
       "      <th>Embarked</th>\n",
       "      <td>2</td>\n",
       "      <td>0.22</td>\n",
       "    </tr>\n",
       "    <tr>\n",
       "      <th>Fare</th>\n",
       "      <td>0</td>\n",
       "      <td>0.00</td>\n",
       "    </tr>\n",
       "    <tr>\n",
       "      <th>Ticket</th>\n",
       "      <td>0</td>\n",
       "      <td>0.00</td>\n",
       "    </tr>\n",
       "  </tbody>\n",
       "</table>\n",
       "</div>"
      ],
      "text/plain": [
       "          DatosNaN  % del total\n",
       "Cabin     687       77.10      \n",
       "Age       177       19.87      \n",
       "Embarked  2         0.22       \n",
       "Fare      0         0.00       \n",
       "Ticket    0         0.00       "
      ]
     },
     "execution_count": 204,
     "metadata": {},
     "output_type": "execute_result"
    }
   ],
   "source": [
    "null = dftrain.isnull().sum().sort_values(ascending=False)\n",
    "porcentaje = dftrain.isnull().sum()/dftrain.isnull().count()*100\n",
    "porcentaje = (round(porcentaje, 2)).sort_values(ascending=False)\n",
    "missing_data = pd.concat([null, porcentaje], axis=1, keys=['DatosNaN', '% del total'])\n",
    "missing_data.head(5)"
   ]
  },
  {
   "cell_type": "markdown",
   "metadata": {},
   "source": [
    "Casi el **20%** de la columna **Age** está faltando. Está proporción es relativamente pequeña y podemos reemplazarla razonablemente mediante el promedio de la información que tenemos. Pero en **Cabin**, la proporción de datos que tenemos es **muy pequeña** por lo que lo más probable es que la ignoremos más adelante."
   ]
  },
  {
   "cell_type": "markdown",
   "metadata": {},
   "source": [
    "## Data Visualizations"
   ]
  },
  {
   "cell_type": "code",
   "execution_count": 205,
   "metadata": {},
   "outputs": [
    {
     "data": {
      "text/plain": [
       "<matplotlib.axes._subplots.AxesSubplot at 0x1c2c423eb8>"
      ]
     },
     "execution_count": 205,
     "metadata": {},
     "output_type": "execute_result"
    },
    {
     "data": {
      "image/png": "[encoded data removed]",
      "text/plain": [
       "<Figure size 432x288 with 1 Axes>"
      ]
     },
     "metadata": {},
     "output_type": "display_data"
    }
   ],
   "source": [
    "#count-plot of people survided \n",
    "sns.set_style('whitegrid')\n",
    "sns.countplot(x='Survived', hue='Sex', data=dftrain, palette='RdBu_r')\n"
   ]
  },
  {
   "cell_type": "markdown",
   "metadata": {},
   "source": [
    "Podemos ver que las personas que **no sobrevivieron** tendieron a ser **hombres** y las que sobrevivieron tendieron a ser **mujeres** por más del doble de hombres. "
   ]
  },
  {
   "cell_type": "code",
   "execution_count": 206,
   "metadata": {},
   "outputs": [
    {
     "data": {
      "text/plain": [
       "<matplotlib.axes._subplots.AxesSubplot at 0x1c2c6b7e48>"
      ]
     },
     "execution_count": 206,
     "metadata": {},
     "output_type": "execute_result"
    },
    {
     "data": {
      "image/png": "[encoded data removed]",
      "text/plain": [
       "<Figure size 432x288 with 1 Axes>"
      ]
     },
     "metadata": {},
     "output_type": "display_data"
    }
   ],
   "source": [
    "#no. of people who survived according to their Passenger Class\n",
    "sns.set_style('whitegrid')\n",
    "sns.countplot(x='Survived', hue='Pclass', data=dftrain)"
   ]
  },
  {
   "cell_type": "markdown",
   "metadata": {},
   "source": [
    "Se puede ver que las personas de **Tercera clase** tendieron a no sobrevivir. "
   ]
  },
  {
   "cell_type": "code",
   "execution_count": 207,
   "metadata": {},
   "outputs": [
    {
     "data": {
      "text/plain": [
       "<matplotlib.axes._subplots.AxesSubplot at 0x1c2c682c88>"
      ]
     },
     "execution_count": 207,
     "metadata": {},
     "output_type": "execute_result"
    },
    {
     "data": {
      "image/png": "[encoded data removed]",
      "text/plain": [
       "<Figure size 432x288 with 1 Axes>"
      ]
     },
     "metadata": {},
     "output_type": "display_data"
    }
   ],
   "source": [
    "#distribution plot of age of the people\n",
    "sns.distplot(dftrain['Age'].dropna(), kde=False, bins=20, color='Green')"
   ]
  },
  {
   "cell_type": "markdown",
   "metadata": {},
   "source": [
    "El **promedio de edad** de la gente que sobrevivió está entre los **20 y 30 años**, y a mayor edad, menor probabilidad de sobrevivir."
   ]
  },
  {
   "cell_type": "code",
   "execution_count": 208,
   "metadata": {},
   "outputs": [
    {
     "data": {
      "text/plain": [
       "<matplotlib.axes._subplots.AxesSubplot at 0x1c2a552b38>"
      ]
     },
     "execution_count": 208,
     "metadata": {},
     "output_type": "execute_result"
    },
    {
     "data": {
      "image/png": "[encoded data removed]",
      "text/plain": [
       "<Figure size 432x288 with 1 Axes>"
      ]
     },
     "metadata": {},
     "output_type": "display_data"
    }
   ],
   "source": [
    "#countplot of the people having siblings or spouce\n",
    "sns.countplot(x='SibSp',data=dftrain)"
   ]
  },
  {
   "cell_type": "markdown",
   "metadata": {},
   "source": [
    "Podemos ver que la mayoría de las personas *no* tenían acompañantes (hijos, padres o pareja), mientras que la segunda opción con más frecuencia es *un acompañante*, probablemente, parejas. "
   ]
  },
  {
   "cell_type": "code",
   "execution_count": 209,
   "metadata": {},
   "outputs": [
    {
     "data": {
      "text/plain": [
       "<matplotlib.axes._subplots.AxesSubplot at 0x1c2a5c0a90>"
      ]
     },
     "execution_count": 209,
     "metadata": {},
     "output_type": "execute_result"
    },
    {
     "data": {
      "image/png": "[encoded data removed]",
      "text/plain": [
       "<Figure size 432x288 with 1 Axes>"
      ]
     },
     "metadata": {},
     "output_type": "display_data"
    }
   ],
   "source": [
    "#distribution plot of the ticket fare\n",
    "dftrain['Fare'].hist(color='green',bins=10)"
   ]
  },
  {
   "cell_type": "markdown",
   "metadata": {},
   "source": [
    "Vemos que la mayoría de los boletos están entre 0 y 50, lo cuál hace sentido pues la mayoría de los pasajeros era de Tercera Clase. "
   ]
  },
  {
   "cell_type": "markdown",
   "metadata": {},
   "source": [
    "## Data Cleaning"
   ]
  },
  {
   "cell_type": "markdown",
   "metadata": {},
   "source": [
    "Queremos llenar los datos faltantes de *Age* para no eliminar la columna. Podemos simplemente llenarla con la **edad promedio** de los pasajeros, sin embargo podemos hacerlo también por la **edad promedio** de acuerdo a la **Pclass** a la que pertenece. "
   ]
  },
  {
   "cell_type": "code",
   "execution_count": 210,
   "metadata": {},
   "outputs": [
    {
     "data": {
      "image/png": "[encoded data removed]",
      "text/plain": [
       "<Figure size 864x504 with 1 Axes>"
      ]
     },
     "metadata": {},
     "output_type": "display_data"
    }
   ],
   "source": [
    "#boxplot with age on y-axis and Passenger class on x-axis.\n",
    "plt.figure(figsize=(12, 7))\n",
    "bx=sns.boxplot(x='Pclass',y='Age',data=dftrain,palette='winter')\n",
    "\n",
    "medians = dftrain.groupby(['Pclass'])['Age'].median().values\n",
    "median_labels = [str(np.round(s, 0)) for s in medians]\n",
    "\n",
    "pos = range(len(medians))\n",
    "for tick,label in zip(pos,bx.get_xticklabels()):\n",
    "    bx.text(pos[tick], medians[tick] + 0.5, median_labels[tick], \n",
    "            horizontalalignment='center', size='large', color='w', weight='semibold')"
   ]
  },
  {
   "cell_type": "markdown",
   "metadata": {},
   "source": [
    "Podemos ver que las clases altas tienden a tener más años, lo cual, tiene sentido. Vamos a usar este **promedio de edad por clase** para llenar nuestros datos faltantes. "
   ]
  },
  {
   "cell_type": "code",
   "execution_count": 211,
   "metadata": {},
   "outputs": [],
   "source": [
    "def impute_age(cols):\n",
    "    Age = cols[0]\n",
    "    Pclass = cols[1]\n",
    "    \n",
    "    if pd.isnull(Age):\n",
    "        if Pclass == 1:\n",
    "            return 37\n",
    "        elif Pclass == 2:\n",
    "            return 29\n",
    "        else:\n",
    "            return 24\n",
    "    else:\n",
    "        return Age"
   ]
  },
  {
   "cell_type": "markdown",
   "metadata": {},
   "source": [
    "Aplicamos la función."
   ]
  },
  {
   "cell_type": "code",
   "execution_count": 212,
   "metadata": {},
   "outputs": [],
   "source": [
    "dftrain['Age'] = dftrain[['Age','Pclass']].apply(impute_age,axis=1)"
   ]
  },
  {
   "cell_type": "code",
   "execution_count": 213,
   "metadata": {},
   "outputs": [
    {
     "data": {
      "text/plain": [
       "<matplotlib.axes._subplots.AxesSubplot at 0x1c2cd7d0b8>"
      ]
     },
     "execution_count": 213,
     "metadata": {},
     "output_type": "execute_result"
    },
    {
     "data": {
      "image/png": "[encoded data removed]",
      "text/plain": [
       "<Figure size 432x288 with 1 Axes>"
      ]
     },
     "metadata": {},
     "output_type": "display_data"
    }
   ],
   "source": [
    "sns.heatmap(dftrain.isnull(),yticklabels=False,cbar=False,cmap='cividis')"
   ]
  },
  {
   "cell_type": "markdown",
   "metadata": {},
   "source": [
    "Vamos a borrar la columna **Cabin** y las filas nulas de **Embarked**.   \n",
    "Este sujeto creó una variable nueva para Cabin basado en Embarked: https://towardsdatascience.com/predicting-the-survival-of-titanic-passengers-30870ccc7e8, pero yo no:3, así que vamos a eliminarla. "
   ]
  },
  {
   "cell_type": "code",
   "execution_count": 214,
   "metadata": {},
   "outputs": [
    {
     "data": {
      "text/html": [
       "<div>\n",
       "<style scoped>\n",
       "    .dataframe tbody tr th:only-of-type {\n",
       "        vertical-align: middle;\n",
       "    }\n",
       "\n",
       "    .dataframe tbody tr th {\n",
       "        vertical-align: top;\n",
       "    }\n",
       "\n",
       "    .dataframe thead th {\n",
       "        text-align: right;\n",
       "    }\n",
       "</style>\n",
       "<table border=\"1\" class=\"dataframe\">\n",
       "  <thead>\n",
       "    <tr style=\"text-align: right;\">\n",
       "      <th></th>\n",
       "      <th>PassengerId</th>\n",
       "      <th>Survived</th>\n",
       "      <th>Pclass</th>\n",
       "      <th>Name</th>\n",
       "      <th>Sex</th>\n",
       "      <th>Age</th>\n",
       "      <th>SibSp</th>\n",
       "      <th>Parch</th>\n",
       "      <th>Ticket</th>\n",
       "      <th>Fare</th>\n",
       "      <th>Embarked</th>\n",
       "    </tr>\n",
       "  </thead>\n",
       "  <tbody>\n",
       "    <tr>\n",
       "      <th>0</th>\n",
       "      <td>1</td>\n",
       "      <td>0</td>\n",
       "      <td>3</td>\n",
       "      <td>Braund, Mr. Owen Harris</td>\n",
       "      <td>male</td>\n",
       "      <td>22.0</td>\n",
       "      <td>1</td>\n",
       "      <td>0</td>\n",
       "      <td>A/5 21171</td>\n",
       "      <td>7.2500</td>\n",
       "      <td>S</td>\n",
       "    </tr>\n",
       "    <tr>\n",
       "      <th>1</th>\n",
       "      <td>2</td>\n",
       "      <td>1</td>\n",
       "      <td>1</td>\n",
       "      <td>Cumings, Mrs. John Bradley (Florence Briggs Thayer)</td>\n",
       "      <td>female</td>\n",
       "      <td>38.0</td>\n",
       "      <td>1</td>\n",
       "      <td>0</td>\n",
       "      <td>PC 17599</td>\n",
       "      <td>71.2833</td>\n",
       "      <td>C</td>\n",
       "    </tr>\n",
       "    <tr>\n",
       "      <th>2</th>\n",
       "      <td>3</td>\n",
       "      <td>1</td>\n",
       "      <td>3</td>\n",
       "      <td>Heikkinen, Miss. Laina</td>\n",
       "      <td>female</td>\n",
       "      <td>26.0</td>\n",
       "      <td>0</td>\n",
       "      <td>0</td>\n",
       "      <td>STON/O2. 3101282</td>\n",
       "      <td>7.9250</td>\n",
       "      <td>S</td>\n",
       "    </tr>\n",
       "    <tr>\n",
       "      <th>3</th>\n",
       "      <td>4</td>\n",
       "      <td>1</td>\n",
       "      <td>1</td>\n",
       "      <td>Futrelle, Mrs. Jacques Heath (Lily May Peel)</td>\n",
       "      <td>female</td>\n",
       "      <td>35.0</td>\n",
       "      <td>1</td>\n",
       "      <td>0</td>\n",
       "      <td>113803</td>\n",
       "      <td>53.1000</td>\n",
       "      <td>S</td>\n",
       "    </tr>\n",
       "    <tr>\n",
       "      <th>4</th>\n",
       "      <td>5</td>\n",
       "      <td>0</td>\n",
       "      <td>3</td>\n",
       "      <td>Allen, Mr. William Henry</td>\n",
       "      <td>male</td>\n",
       "      <td>35.0</td>\n",
       "      <td>0</td>\n",
       "      <td>0</td>\n",
       "      <td>373450</td>\n",
       "      <td>8.0500</td>\n",
       "      <td>S</td>\n",
       "    </tr>\n",
       "  </tbody>\n",
       "</table>\n",
       "</div>"
      ],
      "text/plain": [
       "   PassengerId  Survived  Pclass  \\\n",
       "0  1            0         3        \n",
       "1  2            1         1        \n",
       "2  3            1         3        \n",
       "3  4            1         1        \n",
       "4  5            0         3        \n",
       "\n",
       "                                                  Name     Sex   Age  SibSp  \\\n",
       "0  Braund, Mr. Owen Harris                              male    22.0  1       \n",
       "1  Cumings, Mrs. John Bradley (Florence Briggs Thayer)  female  38.0  1       \n",
       "2  Heikkinen, Miss. Laina                               female  26.0  0       \n",
       "3  Futrelle, Mrs. Jacques Heath (Lily May Peel)         female  35.0  1       \n",
       "4  Allen, Mr. William Henry                             male    35.0  0       \n",
       "\n",
       "   Parch            Ticket     Fare Embarked  \n",
       "0  0      A/5 21171         7.2500   S        \n",
       "1  0      PC 17599          71.2833  C        \n",
       "2  0      STON/O2. 3101282  7.9250   S        \n",
       "3  0      113803            53.1000  S        \n",
       "4  0      373450            8.0500   S        "
      ]
     },
     "execution_count": 214,
     "metadata": {},
     "output_type": "execute_result"
    }
   ],
   "source": [
    "dftrain.drop('Cabin',axis=1,inplace=True)\n",
    "dftrain.dropna(inplace=True)\n",
    "dftrain.head()"
   ]
  },
  {
   "cell_type": "code",
   "execution_count": null,
   "metadata": {},
   "outputs": [],
   "source": []
  },
  {
   "cell_type": "markdown",
   "metadata": {},
   "source": [
    "## Converting Categorical Features"
   ]
  },
  {
   "cell_type": "markdown",
   "metadata": {},
   "source": [
    "Vamos a necesitar convertir algunas variables a **variables dummy**, porque de otra forma, el **algoritmo** de **machine learning** no podrá tomar esos valores. "
   ]
  },
  {
   "cell_type": "code",
   "execution_count": 215,
   "metadata": {},
   "outputs": [
    {
     "data": {
      "text/html": [
       "<div>\n",
       "<style scoped>\n",
       "    .dataframe tbody tr th:only-of-type {\n",
       "        vertical-align: middle;\n",
       "    }\n",
       "\n",
       "    .dataframe tbody tr th {\n",
       "        vertical-align: top;\n",
       "    }\n",
       "\n",
       "    .dataframe thead th {\n",
       "        text-align: right;\n",
       "    }\n",
       "</style>\n",
       "<table border=\"1\" class=\"dataframe\">\n",
       "  <thead>\n",
       "    <tr style=\"text-align: right;\">\n",
       "      <th></th>\n",
       "      <th>PassengerId</th>\n",
       "      <th>Survived</th>\n",
       "      <th>Age</th>\n",
       "      <th>SibSp</th>\n",
       "      <th>Parch</th>\n",
       "      <th>Fare</th>\n",
       "      <th>male</th>\n",
       "      <th>Q</th>\n",
       "      <th>S</th>\n",
       "      <th>SecondClass</th>\n",
       "      <th>ThirdClass</th>\n",
       "    </tr>\n",
       "  </thead>\n",
       "  <tbody>\n",
       "    <tr>\n",
       "      <th>0</th>\n",
       "      <td>1</td>\n",
       "      <td>0</td>\n",
       "      <td>22.0</td>\n",
       "      <td>1</td>\n",
       "      <td>0</td>\n",
       "      <td>7.2500</td>\n",
       "      <td>1</td>\n",
       "      <td>0</td>\n",
       "      <td>1</td>\n",
       "      <td>0</td>\n",
       "      <td>1</td>\n",
       "    </tr>\n",
       "    <tr>\n",
       "      <th>1</th>\n",
       "      <td>2</td>\n",
       "      <td>1</td>\n",
       "      <td>38.0</td>\n",
       "      <td>1</td>\n",
       "      <td>0</td>\n",
       "      <td>71.2833</td>\n",
       "      <td>0</td>\n",
       "      <td>0</td>\n",
       "      <td>0</td>\n",
       "      <td>0</td>\n",
       "      <td>0</td>\n",
       "    </tr>\n",
       "    <tr>\n",
       "      <th>2</th>\n",
       "      <td>3</td>\n",
       "      <td>1</td>\n",
       "      <td>26.0</td>\n",
       "      <td>0</td>\n",
       "      <td>0</td>\n",
       "      <td>7.9250</td>\n",
       "      <td>0</td>\n",
       "      <td>0</td>\n",
       "      <td>1</td>\n",
       "      <td>0</td>\n",
       "      <td>1</td>\n",
       "    </tr>\n",
       "    <tr>\n",
       "      <th>3</th>\n",
       "      <td>4</td>\n",
       "      <td>1</td>\n",
       "      <td>35.0</td>\n",
       "      <td>1</td>\n",
       "      <td>0</td>\n",
       "      <td>53.1000</td>\n",
       "      <td>0</td>\n",
       "      <td>0</td>\n",
       "      <td>1</td>\n",
       "      <td>0</td>\n",
       "      <td>0</td>\n",
       "    </tr>\n",
       "    <tr>\n",
       "      <th>4</th>\n",
       "      <td>5</td>\n",
       "      <td>0</td>\n",
       "      <td>35.0</td>\n",
       "      <td>0</td>\n",
       "      <td>0</td>\n",
       "      <td>8.0500</td>\n",
       "      <td>1</td>\n",
       "      <td>0</td>\n",
       "      <td>1</td>\n",
       "      <td>0</td>\n",
       "      <td>1</td>\n",
       "    </tr>\n",
       "  </tbody>\n",
       "</table>\n",
       "</div>"
      ],
      "text/plain": [
       "   PassengerId  Survived   Age  SibSp  Parch     Fare  male  Q  S  \\\n",
       "0  1            0         22.0  1      0      7.2500   1     0  1   \n",
       "1  2            1         38.0  1      0      71.2833  0     0  0   \n",
       "2  3            1         26.0  0      0      7.9250   0     0  1   \n",
       "3  4            1         35.0  1      0      53.1000  0     0  1   \n",
       "4  5            0         35.0  0      0      8.0500   1     0  1   \n",
       "\n",
       "   SecondClass  ThirdClass  \n",
       "0  0            1           \n",
       "1  0            0           \n",
       "2  0            1           \n",
       "3  0            0           \n",
       "4  0            1           "
      ]
     },
     "execution_count": 215,
     "metadata": {},
     "output_type": "execute_result"
    }
   ],
   "source": [
    "sex = pd.get_dummies(dftrain['Sex'],drop_first=True)\n",
    "embark = pd.get_dummies(dftrain['Embarked'],drop_first=True)\n",
    "\n",
    "#Convert Class also\n",
    "dftrain['Pclass'] = dftrain['Pclass'].astype(str)\n",
    "dftrain[\"Pclass\"]= dftrain[\"Pclass\"].replace('1', \"FirstClass\") \n",
    "dftrain[\"Pclass\"]= dftrain[\"Pclass\"].replace('2', \"SecondClass\") \n",
    "dftrain[\"Pclass\"]= dftrain[\"Pclass\"].replace('3', \"ThirdClass\") \n",
    "pclassdummy = pd.get_dummies(dftrain['Pclass'],drop_first=True)\n",
    "\n",
    "#drop the sex,embarked,name and tickets columns\n",
    "dftrain.drop(['Sex','Embarked','Name','Ticket', 'Pclass'],axis=1,inplace=True)\n",
    "\n",
    "#concatenate new sex and embark column to our train dataframe\n",
    "dftrain = pd.concat([dftrain,sex,embark,pclassdummy],axis=1)\n",
    "\n",
    " \n",
    "\n",
    "#check the head of dataframe\n",
    "dftrain.head()\n"
   ]
  },
  {
   "cell_type": "code",
   "execution_count": 216,
   "metadata": {},
   "outputs": [],
   "source": [
    "dftrain.to_csv('trainminitab.csv')"
   ]
  },
  {
   "cell_type": "markdown",
   "metadata": {},
   "source": [
    "En la columna male 1 es true, 0 es false(female)  \n",
    "C -Cherbourg , S -Southhampton , Q -Queenstown\n",
    "Q S  \n",
    "1 0 -> Embarked at Q  \n",
    "0 1 -> Embarked at S  \n",
    "0 0 -> Embarked at C\n"
   ]
  },
  {
   "cell_type": "markdown",
   "metadata": {},
   "source": [
    "Hacer lo mismo en el dataframe del test. NO SE VA A USAR."
   ]
  },
  {
   "cell_type": "raw",
   "metadata": {
    "hide_input": false
   },
   "source": [
    "dftest['Age'] = dftest[['Age','Pclass']].apply(impute_age,axis=1)\n",
    "\n",
    "sex = pd.get_dummies(dftest['Sex'],drop_first=True)\n",
    "embark = pd.get_dummies(dftest['Embarked'],drop_first=True)\n",
    "\n",
    "#Convert Class also\n",
    "dftest['Pclass'] = dftest['Pclass'].astype(str)\n",
    "dftest[\"Pclass\"]= dftest[\"Pclass\"].replace('1', \"FirstClass\") \n",
    "dftest[\"Pclass\"]= dftest[\"Pclass\"].replace('2', \"SecondClass\") \n",
    "dftest[\"Pclass\"]= dftest[\"Pclass\"].replace('3', \"ThirdClass\") \n",
    "pclassdummy = pd.get_dummies(dftest['Pclass'],drop_first=True)\n",
    "\n",
    "#drop the sex,embarked,name and tickets columns\n",
    "dftest.drop(['Sex','Embarked','Name','Ticket', 'Pclass', 'Cabin'],axis=1,inplace=True)\n",
    "\n",
    "#concatenate new sex and embark column to our train dataframe\n",
    "dftest = pd.concat([dftest,sex,embark,pclassdummy],axis=1)\n",
    "\n",
    "dftest = dftest.dropna()\n",
    "#dftest.columns = ['PassangerId', 'Survived', 'Age', 'SibSp','Parch', 'Fare', 'Male', 'Q', 'S', 'SecondClass', 'ThirdClass']\n"
   ]
  },
  {
   "cell_type": "raw",
   "metadata": {},
   "source": [
    "dftest.info()"
   ]
  },
  {
   "cell_type": "markdown",
   "metadata": {},
   "source": [
    "## Building a Logistic Regression model"
   ]
  },
  {
   "cell_type": "markdown",
   "metadata": {},
   "source": [
    "Primero hay que dividir nuestros datos en un **training set** y un **test set**. Había un test file que consideraba que solamente las mujeres sobrevivían, pero no lo vamos a usar. "
   ]
  },
  {
   "cell_type": "markdown",
   "metadata": {},
   "source": [
    "### Train Test Split"
   ]
  },
  {
   "cell_type": "markdown",
   "metadata": {},
   "source": [
    "**X** contendrá todas las variables y **y** la variable **survived**."
   ]
  },
  {
   "cell_type": "code",
   "execution_count": 217,
   "metadata": {},
   "outputs": [],
   "source": [
    "from sklearn.model_selection import train_test_split\n",
    "X_train, X_test, y_train, y_test = train_test_split(dftrain.drop('Survived',axis=1), \n",
    "           dftrain['Survived'], test_size=0.30, \n",
    "            random_state=101)"
   ]
  },
  {
   "cell_type": "markdown",
   "metadata": {},
   "source": [
    "Aquí **y** es la data que vamos a predecir, todo lo demás van a ser variables de **x**.\n",
    "Se definió el test a **30%**, y el random state es para que sea random, pero se define un número para que sea igual cada vez que lo corramos. \n",
    "Vamos a usar **train_test_split** del módulo **cross_validation** para hacerle **split** a los datos. **70%** de la data será **training data** y **30%** será **testing data**."
   ]
  },
  {
   "cell_type": "markdown",
   "metadata": {},
   "source": [
    "### Training and Predicting"
   ]
  },
  {
   "cell_type": "markdown",
   "metadata": {},
   "source": [
    "Usamos **Regresión Lógistica** entrenar a nuestro modelo. "
   ]
  },
  {
   "cell_type": "code",
   "execution_count": 218,
   "metadata": {},
   "outputs": [
    {
     "name": "stderr",
     "output_type": "stream",
     "text": [
      "/Users/jaimesolis/anaconda3/lib/python3.7/site-packages/sklearn/linear_model/logistic.py:432: FutureWarning: Default solver will be changed to 'lbfgs' in 0.22. Specify a solver to silence this warning.\n",
      "  FutureWarning)\n"
     ]
    },
    {
     "data": {
      "text/plain": [
       "LogisticRegression(C=1.0, class_weight=None, dual=False, fit_intercept=True,\n",
       "                   intercept_scaling=1, l1_ratio=None, max_iter=100,\n",
       "                   multi_class='warn', n_jobs=None, penalty='l2',\n",
       "                   random_state=None, solver='warn', tol=0.0001, verbose=0,\n",
       "                   warm_start=False)"
      ]
     },
     "execution_count": 218,
     "metadata": {},
     "output_type": "execute_result"
    }
   ],
   "source": [
    "from sklearn.linear_model import LogisticRegression\n",
    "#create an instance and fit the model \n",
    "logmodel = LogisticRegression()\n",
    "logmodel.fit(X_train, y_train)"
   ]
  },
  {
   "cell_type": "code",
   "execution_count": 219,
   "metadata": {},
   "outputs": [],
   "source": [
    "#predictions\n",
    "Predictions = logmodel.predict(X_test)"
   ]
  },
  {
   "cell_type": "markdown",
   "metadata": {},
   "source": [
    "Empezamos por importar el paquete **LogisticRegression** del modelo **Linear**.\n",
    "Después, creamos una instancia del **modelo** de **regresión lógistica** llamado logmodel y después hacerle fit al modelo en el training dataset.   \n",
    "Vamos a ver qué tan preciso es nuestro modelo para predecir. "
   ]
  },
  {
   "cell_type": "code",
   "execution_count": 220,
   "metadata": {},
   "outputs": [
    {
     "name": "stdout",
     "output_type": "stream",
     "text": [
      "              precision    recall  f1-score   support\n",
      "\n",
      "           0       0.82      0.93      0.87       163\n",
      "           1       0.85      0.67      0.75       104\n",
      "\n",
      "    accuracy                           0.83       267\n",
      "   macro avg       0.83      0.80      0.81       267\n",
      "weighted avg       0.83      0.83      0.82       267\n",
      "\n"
     ]
    }
   ],
   "source": [
    "from sklearn.metrics import classification_report\n",
    "print(classification_report(y_test,Predictions))"
   ]
  },
  {
   "cell_type": "code",
   "execution_count": 221,
   "metadata": {},
   "outputs": [
    {
     "name": "stdout",
     "output_type": "stream",
     "text": [
      "[[151  12]\n",
      " [ 34  70]]\n"
     ]
    }
   ],
   "source": [
    "from sklearn.metrics import confusion_matrix\n",
    "print(confusion_matrix(y_test, Predictions))"
   ]
  },
  {
   "cell_type": "markdown",
   "metadata": {},
   "source": [
    "De la matriz de confusión podemos concluir que:  \n",
    "**True positive: 151**(Predijimos valores positivos y fueron positivos)  \n",
    "**True negative: 70**(Predijimos valores negativos y fueron negativos)  \n",
    "**False positive: 12**(Predijimos valores positivos y fueron negativos)  \n",
    "**False negative: 34**(Predijimos valores negativos y fueron positivos)  \n",
    "\n",
    "**Accuracy = (TP+TN)/total**  \n",
    "**Accuracy = (151+70)/267 ~ 82%**  \n",
    "**Error Rate = (FP+FN)/total**  \n",
    "**Error rate = (12+34)/267 ~17%**"
   ]
  },
  {
   "cell_type": "code",
   "execution_count": 222,
   "metadata": {},
   "outputs": [
    {
     "name": "stdout",
     "output_type": "stream",
     "text": [
      "Precision: 0.8536585365853658\n",
      "Recall: 0.6730769230769231\n"
     ]
    }
   ],
   "source": [
    "from sklearn.metrics import precision_score, recall_score\n",
    "\n",
    "print(\"Precision:\", precision_score(y_test, Predictions))\n",
    "print(\"Recall:\",recall_score(y_test, Predictions))"
   ]
  },
  {
   "cell_type": "markdown",
   "metadata": {},
   "source": [
    "### Coeficiente 1"
   ]
  },
  {
   "cell_type": "markdown",
   "metadata": {},
   "source": [
    "No se usó"
   ]
  },
  {
   "cell_type": "raw",
   "metadata": {},
   "source": [
    "import statsmodels.api as sm\n",
    "# Make the model\n",
    "logit = sm.Logit(y_train, X_train)\n",
    " \n",
    "# Fit the model\n",
    "result = logit.fit()\n",
    "print(result.summary())"
   ]
  },
  {
   "cell_type": "markdown",
   "metadata": {},
   "source": [
    "### Tabla de Coeficientes"
   ]
  },
  {
   "cell_type": "code",
   "execution_count": 223,
   "metadata": {},
   "outputs": [
    {
     "name": "stdout",
     "output_type": "stream",
     "text": [
      "Optimization terminated successfully.\n",
      "         Current function value: 0.439491\n",
      "         Iterations 6\n",
      "                           Logit Regression Results                           \n",
      "==============================================================================\n",
      "Dep. Variable:               Survived   No. Observations:                  889\n",
      "Model:                          Logit   Df Residuals:                      879\n",
      "Method:                           MLE   Df Model:                            9\n",
      "Date:                Tue, 15 Oct 2019   Pseudo R-squ.:                  0.3394\n",
      "Time:                        16:26:22   Log-Likelihood:                -390.71\n",
      "converged:                       True   LL-Null:                       -591.41\n",
      "Covariance Type:            nonrobust   LLR p-value:                 6.878e-81\n",
      "===============================================================================\n",
      "                  coef    std err          z      P>|z|      [0.025      0.975]\n",
      "-------------------------------------------------------------------------------\n",
      "Intercept       4.2814      0.494      8.660      0.000       3.312       5.250\n",
      "Age            -0.0424      0.008     -5.154      0.000      -0.059      -0.026\n",
      "SibSp          -0.3360      0.110     -3.054      0.002      -0.552      -0.120\n",
      "Parch          -0.0894      0.120     -0.746      0.456      -0.324       0.145\n",
      "Fare            0.0020      0.002      0.830      0.406      -0.003       0.007\n",
      "male           -2.7186      0.202    -13.443      0.000      -3.115      -2.322\n",
      "Q              -0.1138      0.382     -0.298      0.766      -0.862       0.634\n",
      "S              -0.4140      0.240     -1.723      0.085      -0.885       0.057\n",
      "SecondClass    -1.0282      0.304     -3.383      0.001      -1.624      -0.432\n",
      "ThirdClass     -2.3140      0.310     -7.456      0.000      -2.922      -1.706\n",
      "===============================================================================\n"
     ]
    }
   ],
   "source": [
    "# statsmodels works nicely with pandas dataframes\n",
    "import statsmodels.api as sm\n",
    "from statsmodels.formula.api import logit, glm, ols\n",
    "\n",
    "dat = pd.DataFrame(dftrain, columns = ['Survived','Age','SibSp','Parch','Fare','male','Q','S', 'SecondClass', 'ThirdClass'])\n",
    "logit_model = logit('Survived ~ Age + SibSp + Parch + Fare + male + Q + S + SecondClass + ThirdClass',dat).fit()\n",
    "print (logit_model.summary())"
   ]
  },
  {
   "cell_type": "markdown",
   "metadata": {},
   "source": [
    "Podemos ver que las variables Parch, Fare, Q, y S tienen un P value diferente de cero. Vamos a hacer de nuevo el modelo sin estas varaibles para ver si mejora."
   ]
  },
  {
   "cell_type": "markdown",
   "metadata": {},
   "source": [
    "## Second Logistic Regression Model"
   ]
  },
  {
   "cell_type": "markdown",
   "metadata": {},
   "source": [
    "### Drop variables with high P values"
   ]
  },
  {
   "cell_type": "code",
   "execution_count": 224,
   "metadata": {},
   "outputs": [],
   "source": [
    "dftest2=dftest.copy()\n",
    "dftrain2 =dftrain.copy()\n",
    "dftrain2.drop(['Parch', 'Fare', 'Q', 'S'],axis=1,inplace=True)"
   ]
  },
  {
   "cell_type": "code",
   "execution_count": 225,
   "metadata": {},
   "outputs": [],
   "source": [
    "from sklearn.model_selection import train_test_split\n",
    "X_train2, X_test2, y_train2, y_test2 = train_test_split(dftrain2.drop('Survived',axis=1), \n",
    "           dftrain2['Survived'], test_size=0.30, \n",
    "            random_state=101)"
   ]
  },
  {
   "cell_type": "markdown",
   "metadata": {},
   "source": [
    "### Training and Predicting"
   ]
  },
  {
   "cell_type": "code",
   "execution_count": 226,
   "metadata": {},
   "outputs": [
    {
     "name": "stderr",
     "output_type": "stream",
     "text": [
      "/Users/jaimesolis/anaconda3/lib/python3.7/site-packages/sklearn/linear_model/logistic.py:432: FutureWarning: Default solver will be changed to 'lbfgs' in 0.22. Specify a solver to silence this warning.\n",
      "  FutureWarning)\n"
     ]
    },
    {
     "data": {
      "text/plain": [
       "LogisticRegression(C=1.0, class_weight=None, dual=False, fit_intercept=True,\n",
       "                   intercept_scaling=1, l1_ratio=None, max_iter=100,\n",
       "                   multi_class='warn', n_jobs=None, penalty='l2',\n",
       "                   random_state=None, solver='warn', tol=0.0001, verbose=0,\n",
       "                   warm_start=False)"
      ]
     },
     "execution_count": 226,
     "metadata": {},
     "output_type": "execute_result"
    }
   ],
   "source": [
    "from sklearn.linear_model import LogisticRegression\n",
    "#create an instance and fit the model \n",
    "logmodel2 = LogisticRegression()\n",
    "logmodel2.fit(X_train2, y_train2)"
   ]
  },
  {
   "cell_type": "code",
   "execution_count": 227,
   "metadata": {},
   "outputs": [],
   "source": [
    "#predictions\n",
    "Predictions2 = logmodel2.predict(X_test2)"
   ]
  },
  {
   "cell_type": "code",
   "execution_count": 228,
   "metadata": {},
   "outputs": [
    {
     "name": "stdout",
     "output_type": "stream",
     "text": [
      "              precision    recall  f1-score   support\n",
      "\n",
      "           0       0.81      0.92      0.86       163\n",
      "           1       0.84      0.65      0.74       104\n",
      "\n",
      "    accuracy                           0.82       267\n",
      "   macro avg       0.82      0.79      0.80       267\n",
      "weighted avg       0.82      0.82      0.81       267\n",
      "\n"
     ]
    }
   ],
   "source": [
    "from sklearn.metrics import classification_report\n",
    "print(classification_report(y_test2,Predictions2))"
   ]
  },
  {
   "cell_type": "code",
   "execution_count": 229,
   "metadata": {},
   "outputs": [
    {
     "name": "stdout",
     "output_type": "stream",
     "text": [
      "[[150  13]\n",
      " [ 36  68]]\n"
     ]
    }
   ],
   "source": [
    "from sklearn.metrics import confusion_matrix\n",
    "print(confusion_matrix(y_test2, Predictions2))"
   ]
  },
  {
   "cell_type": "markdown",
   "metadata": {},
   "source": [
    "De la matriz de confusión podemos concluir que:  \n",
    "**True positive: 150**(Predijimos valores positivos y fueron positivos)  \n",
    "**True negative: 68**(Predijimos valores negativos y fueron negativos)  \n",
    "**False positive: 13**(Predijimos valores positivos y fueron negativos)  \n",
    "**False negative: 36**(Predijimos valores negativos y fueron positivos)  \n",
    "\n",
    "**Accuracy = (TP+TN)/total**  \n",
    "**Accuracy = (150+68)/417 ~ 81%**  \n",
    "**Error Rate = (FP+FN)/total**  \n",
    "**Error rate = (13+36)/417 ~19%**"
   ]
  },
  {
   "cell_type": "code",
   "execution_count": 230,
   "metadata": {},
   "outputs": [
    {
     "name": "stdout",
     "output_type": "stream",
     "text": [
      "Precision: 0.8395061728395061\n",
      "Recall: 0.6538461538461539\n"
     ]
    }
   ],
   "source": [
    "from sklearn.metrics import precision_score, recall_score\n",
    "\n",
    "print(\"Precision:\", precision_score(y_test2, Predictions2))\n",
    "print(\"Recall:\",recall_score(y_test2, Predictions2))"
   ]
  },
  {
   "cell_type": "code",
   "execution_count": 231,
   "metadata": {},
   "outputs": [
    {
     "name": "stdout",
     "output_type": "stream",
     "text": [
      "Optimization terminated successfully.\n",
      "         Current function value: 0.442360\n",
      "         Iterations 6\n",
      "                           Logit Regression Results                           \n",
      "==============================================================================\n",
      "Dep. Variable:               Survived   No. Observations:                  889\n",
      "Model:                          Logit   Df Residuals:                      883\n",
      "Method:                           MLE   Df Model:                            5\n",
      "Date:                Tue, 15 Oct 2019   Pseudo R-squ.:                  0.3350\n",
      "Time:                        16:26:22   Log-Likelihood:                -393.26\n",
      "converged:                       True   LL-Null:                       -591.41\n",
      "Covariance Type:            nonrobust   LLR p-value:                 1.860e-83\n",
      "===============================================================================\n",
      "                  coef    std err          z      P>|z|      [0.025      0.975]\n",
      "-------------------------------------------------------------------------------\n",
      "Intercept       4.2405      0.422     10.048      0.000       3.413       5.068\n",
      "Age            -0.0442      0.008     -5.406      0.000      -0.060      -0.028\n",
      "SibSp          -0.3699      0.104     -3.545      0.000      -0.574      -0.165\n",
      "male           -2.7342      0.195    -14.008      0.000      -3.117      -2.352\n",
      "SecondClass    -1.2777      0.267     -4.780      0.000      -1.802      -0.754\n",
      "ThirdClass     -2.5194      0.258     -9.778      0.000      -3.024      -2.014\n",
      "===============================================================================\n"
     ]
    }
   ],
   "source": [
    "# statsmodels works nicely with pandas dataframes\n",
    "import statsmodels.api as sm\n",
    "from statsmodels.formula.api import logit, glm, ols\n",
    "\n",
    "dat = pd.DataFrame(dftrain, columns = ['Survived','Age','SibSp','male','SecondClass', 'ThirdClass'])\n",
    "logit_model = logit('Survived ~ Age + SibSp + male + SecondClass + ThirdClass',dat).fit()\n",
    "print (logit_model.summary())"
   ]
  },
  {
   "cell_type": "markdown",
   "metadata": {},
   "source": [
    "Como podemos ver, remover variables no mejoró nuestro modelo, por lo que nos quedaremos con el modelo completo. "
   ]
  },
  {
   "cell_type": "markdown",
   "metadata": {},
   "source": [
    "## Personajes de la pelicula"
   ]
  },
  {
   "cell_type": "markdown",
   "metadata": {},
   "source": [
    "Vamos a tratar de predicir si los protagonistas de la peli titanic hubieran fallecido. \n",
    "Los Datos fueron obtenidos de https://jamescameronstitanic.fandom.com/wiki/James_Cameron%27s_Titanic_Wiki  \n",
    "Como no viene el precio del boleto, vamos a ver la dispersion para asignar el valor medio:\n"
   ]
  },
  {
   "cell_type": "code",
   "execution_count": 232,
   "metadata": {},
   "outputs": [
    {
     "data": {
      "image/png": "[encoded data removed]",
      "text/plain": [
       "<Figure size 720x720 with 1 Axes>"
      ]
     },
     "metadata": {},
     "output_type": "display_data"
    }
   ],
   "source": [
    "plt.figure(figsize=(10, 10))\n",
    "bx=sns.boxplot(x='Pclass',y='Fare',data=dfmovie,palette='winter')\n",
    "\n",
    "medians = dfmovie.groupby(['Pclass'])['Fare'].median().values\n",
    "median_labels = [str(np.round(s, 2)) for s in medians]\n",
    "\n",
    "pos = range(len(medians))\n",
    "for tick,label in zip(pos,bx.get_xticklabels()):\n",
    "    bx.text(pos[tick], medians[tick] + 0.5, median_labels[tick], \n",
    "            horizontalalignment='center', size='large', color='w', weight='semibold')"
   ]
  },
  {
   "cell_type": "markdown",
   "metadata": {},
   "source": [
    "La página no trae los precios y algunas edades no están especificadas (sólo dicen por ejemplo born in 1860's), así que elegiremos un aproximado de edad, el resto de los datos, sí los contiene la página. "
   ]
  },
  {
   "cell_type": "code",
   "execution_count": 233,
   "metadata": {},
   "outputs": [],
   "source": [
    "# intialise data of lists.\n",
    "characters = {'Id':['1', '2', '3', '4', '5','6'],\n",
    "        'Age':[20,17, 30, 50, 20, 45], \n",
    "        'SibSp': [0,1,1,0,0,1], \n",
    "         'Parch': [0,1,0,1,0,0], \n",
    "         'Fare': [8.5, 60.29, 60.29, 60.29, 8.5,60.29], \n",
    "       'male':[1,0,1,0,1,0],\n",
    "       'Q': [0,0,0,0,0,0], \n",
    "       'S':[1,1,1,1,1,0], \n",
    "       'SecondClass':[0,0,0,0,0,0], \n",
    "       'ThirdClass': [1,0,0,0,1,0]}\n",
    " \n",
    "# Create DataFrame\n",
    "dfmovie = pd.DataFrame(characters)"
   ]
  },
  {
   "cell_type": "code",
   "execution_count": 234,
   "metadata": {},
   "outputs": [],
   "source": [
    "PredictionsMovie = logmodel.predict(dfmovie)"
   ]
  },
  {
   "cell_type": "code",
   "execution_count": 235,
   "metadata": {},
   "outputs": [
    {
     "data": {
      "text/plain": [
       "array([0, 1, 0, 1, 0, 1])"
      ]
     },
     "execution_count": 235,
     "metadata": {},
     "output_type": "execute_result"
    }
   ],
   "source": [
    "PredictionsMovie"
   ]
  },
  {
   "cell_type": "code",
   "execution_count": 236,
   "metadata": {
    "hide_input": false
   },
   "outputs": [],
   "source": [
    "dfmovie.insert(1, \"Name\", ['Jack Dawson', 'Rose DeWitt Bukater', 'Caledon Hockley (El malo de la peli)', \n",
    "                           'Ruth DeWitt Bukater (la mamá de Rose)', 'Fabrizio De Rossi (el amigo de Jack)',\n",
    "                          'Margaret Brown (la que ayuda a Jack)' ], True) \n",
    "dfmovie.insert(2, 'Prediction Survived', PredictionsMovie, True)\n",
    "dfmovie.insert(3, 'Movie Fate', ['Died in the Atlantic ocean of hypothermia', 'Survived on lifeboat 14',\n",
    "                                'Escapes on a collapsible lifeboat',\n",
    "                                'Escapes on lifeboat 6', 'He was killed after being crushed by a falling smokestack',\n",
    "                                 'Escaped on lifeboat 6'\n",
    "                                ])\n"
   ]
  },
  {
   "cell_type": "code",
   "execution_count": 237,
   "metadata": {
    "hide_input": false
   },
   "outputs": [
    {
     "data": {
      "text/html": [
       "<table border=\"1\" class=\"dataframe\">\n",
       "  <thead>\n",
       "    <tr style=\"text-align: right;\">\n",
       "      <th></th>\n",
       "      <th>Name</th>\n",
       "      <th>image</th>\n",
       "      <th>Prediction Survived</th>\n",
       "      <th>Movie Fate</th>\n",
       "      <th>Age</th>\n",
       "      <th>SibSp</th>\n",
       "      <th>Parch</th>\n",
       "      <th>Fare</th>\n",
       "      <th>male</th>\n",
       "      <th>Q</th>\n",
       "      <th>S</th>\n",
       "      <th>SecondClass</th>\n",
       "      <th>ThirdClass</th>\n",
       "    </tr>\n",
       "  </thead>\n",
       "  <tbody>\n",
       "    <tr>\n",
       "      <th>0</th>\n",
       "      <td>Jack Dawson</td>\n",
       "      <td><img src=\"https://vignette.wikia.nocookie.net/jamescameronstitanic/images/c/c6/Untitledaksjk.png/revision/latest?cb=20130918130638\" width=\"90\" ></td>\n",
       "      <td>0</td>\n",
       "      <td>Died in the Atlantic ocean of hypothermia</td>\n",
       "      <td>20</td>\n",
       "      <td>0</td>\n",
       "      <td>0</td>\n",
       "      <td>8.50</td>\n",
       "      <td>1</td>\n",
       "      <td>0</td>\n",
       "      <td>1</td>\n",
       "      <td>0</td>\n",
       "      <td>1</td>\n",
       "    </tr>\n",
       "    <tr>\n",
       "      <th>1</th>\n",
       "      <td>Rose DeWitt Bukater</td>\n",
       "      <td><img src=\"https://vignette.wikia.nocookie.net/jamescameronstitanic/images/d/d3/Rosedewittbukater.jpg/revision/latest/scale-to-width-down/235?cb=20120518041253\" width=\"90\" ></td>\n",
       "      <td>1</td>\n",
       "      <td>Survived on lifeboat 14</td>\n",
       "      <td>17</td>\n",
       "      <td>1</td>\n",
       "      <td>1</td>\n",
       "      <td>60.29</td>\n",
       "      <td>0</td>\n",
       "      <td>0</td>\n",
       "      <td>1</td>\n",
       "      <td>0</td>\n",
       "      <td>0</td>\n",
       "    </tr>\n",
       "    <tr>\n",
       "      <th>2</th>\n",
       "      <td>Caledon Hockley (El malo de la peli)</td>\n",
       "      <td><img src=\"https://vignette.wikia.nocookie.net/jamescameronstitanic/images/a/a5/Titanical-main1.jpg/revision/latest/scale-to-width-down/1000?cb=20190905221101\" width=\"90\" ></td>\n",
       "      <td>0</td>\n",
       "      <td>Escapes on a collapsible lifeboat</td>\n",
       "      <td>30</td>\n",
       "      <td>1</td>\n",
       "      <td>0</td>\n",
       "      <td>60.29</td>\n",
       "      <td>1</td>\n",
       "      <td>0</td>\n",
       "      <td>1</td>\n",
       "      <td>0</td>\n",
       "      <td>0</td>\n",
       "    </tr>\n",
       "    <tr>\n",
       "      <th>3</th>\n",
       "      <td>Ruth DeWitt Bukater (la mamá de Rose)</td>\n",
       "      <td><img src=\"https://vignette.wikia.nocookie.net/jamescameronstitanic/images/d/d6/Ruth_DeWitt_Bukater.gif/revision/latest?cb=20120608235809\" width=\"90\" ></td>\n",
       "      <td>1</td>\n",
       "      <td>Escapes on lifeboat 6</td>\n",
       "      <td>50</td>\n",
       "      <td>0</td>\n",
       "      <td>1</td>\n",
       "      <td>60.29</td>\n",
       "      <td>0</td>\n",
       "      <td>0</td>\n",
       "      <td>1</td>\n",
       "      <td>0</td>\n",
       "      <td>0</td>\n",
       "    </tr>\n",
       "    <tr>\n",
       "      <th>4</th>\n",
       "      <td>Fabrizio De Rossi (el amigo de Jack)</td>\n",
       "      <td><img src=\"https://vignette.wikia.nocookie.net/jamescameronstitanic/images/d/dd/Fabrizio_De_Rossi.png/revision/latest?cb=20140415143817\" width=\"90\" ></td>\n",
       "      <td>0</td>\n",
       "      <td>He was killed after being crushed by a falling smokestack</td>\n",
       "      <td>20</td>\n",
       "      <td>0</td>\n",
       "      <td>0</td>\n",
       "      <td>8.50</td>\n",
       "      <td>1</td>\n",
       "      <td>0</td>\n",
       "      <td>1</td>\n",
       "      <td>0</td>\n",
       "      <td>1</td>\n",
       "    </tr>\n",
       "    <tr>\n",
       "      <th>5</th>\n",
       "      <td>Margaret Brown (la que ayuda a Jack)</td>\n",
       "      <td><img src=\"https://vignette.wikia.nocookie.net/jamescameronstitanic/images/f/f0/Molly_Brown.gif/revision/latest?cb=20120615215650\" width=\"90\" ></td>\n",
       "      <td>1</td>\n",
       "      <td>Escaped on lifeboat 6</td>\n",
       "      <td>45</td>\n",
       "      <td>1</td>\n",
       "      <td>0</td>\n",
       "      <td>60.29</td>\n",
       "      <td>0</td>\n",
       "      <td>0</td>\n",
       "      <td>0</td>\n",
       "      <td>0</td>\n",
       "      <td>0</td>\n",
       "    </tr>\n",
       "  </tbody>\n",
       "</table>"
      ],
      "text/plain": [
       "<IPython.core.display.HTML object>"
      ]
     },
     "execution_count": 237,
     "metadata": {},
     "output_type": "execute_result"
    }
   ],
   "source": [
    "import pandas as pd\n",
    "from IPython.core.display import HTML\n",
    "\n",
    "\n",
    "# your images\n",
    "images = ['https://vignette.wikia.nocookie.net/jamescameronstitanic/images/c/c6/Untitledaksjk.png/revision/latest?cb=20130918130638',\n",
    "          'https://vignette.wikia.nocookie.net/jamescameronstitanic/images/d/d3/Rosedewittbukater.jpg/revision/latest/scale-to-width-down/235?cb=20120518041253',\n",
    "         'https://vignette.wikia.nocookie.net/jamescameronstitanic/images/a/a5/Titanical-main1.jpg/revision/latest/scale-to-width-down/1000?cb=20190905221101', \n",
    "         'https://vignette.wikia.nocookie.net/jamescameronstitanic/images/d/d6/Ruth_DeWitt_Bukater.gif/revision/latest?cb=20120608235809',\n",
    "         'https://vignette.wikia.nocookie.net/jamescameronstitanic/images/d/dd/Fabrizio_De_Rossi.png/revision/latest?cb=20140415143817',\n",
    "         'https://vignette.wikia.nocookie.net/jamescameronstitanic/images/f/f0/Molly_Brown.gif/revision/latest?cb=20120615215650'] \n",
    "\n",
    "\n",
    "dfmovie['image'] = images\n",
    "\n",
    "dfmovie = dfmovie[['Name', 'image', 'Prediction Survived', 'Movie Fate','Age', 'SibSp', 'Parch', 'Fare', 'male', 'Q', 'S', 'SecondClass', 'ThirdClass']]\n",
    "\n",
    "# convert your links to html tags \n",
    "def path_to_image_html(path):\n",
    "    return '<img src=\"'+ path + '\" width=\"90\" >'\n",
    "\n",
    "pd.set_option('display.max_colwidth', -1)\n",
    "\n",
    "HTML(dfmovie.to_html(escape=False ,formatters=dict(image=path_to_image_html)))"
   ]
  },
  {
   "cell_type": "markdown",
   "metadata": {},
   "source": [
    "Podemos ver que el modelo atinó a todos los personajes, salvo uno ya que los tres personajes femeninos eran pasajeros de primera clase entonces era muy probable que se salvaran. Los dos personajes masculinos estaban en tercera clase por lo que era muy probable que no sobrevivieran. El modelo predijo Cal no debía sobrevivir, pero en la pelicula miente para poder subirse en un bote salvavidas>:[\n",
    " \n"
   ]
  },
  {
   "cell_type": "code",
   "execution_count": null,
   "metadata": {},
   "outputs": [],
   "source": []
  }
 ],
 "metadata": {
  "kernelspec": {
   "display_name": "Python 3",
   "language": "python",
   "name": "python3"
  },
  "language_info": {
   "codemirror_mode": {
    "name": "ipython",
    "version": 3
   },
   "file_extension": ".py",
   "mimetype": "text/x-python",
   "name": "python",
   "nbconvert_exporter": "python",
   "pygments_lexer": "ipython3",
   "version": "3.7.3"
  },
  "toc": {
   "base_numbering": 1,
   "nav_menu": {},
   "number_sections": true,
   "sideBar": true,
   "skip_h1_title": false,
   "title_cell": "Table of Contents",
   "title_sidebar": "Contents",
   "toc_cell": false,
   "toc_position": {
    "height": "calc(100% - 180px)",
    "left": "10px",
    "top": "150px",
    "width": "338.8235168457031px"
   },
   "toc_section_display": true,
   "toc_window_display": true
  }
 },
 "nbformat": 4,
 "nbformat_minor": 2
}
